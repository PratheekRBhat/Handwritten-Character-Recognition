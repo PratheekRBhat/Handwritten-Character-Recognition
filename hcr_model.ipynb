{
 "cells": [
  {
   "cell_type": "markdown",
   "metadata": {},
   "source": [
    "# Handwritten Character Recognition Model"
   ]
  },
  {
   "cell_type": "code",
   "execution_count": 1,
   "metadata": {},
   "outputs": [
    {
     "name": "stderr",
     "output_type": "stream",
     "text": [
      "C:\\Users\\prath\\anaconda3\\envs\\pythonProject\\lib\\site-packages\\tensorflow\\python\\framework\\dtypes.py:516: FutureWarning: Passing (type, 1) or '1type' as a synonym of type is deprecated; in a future version of numpy, it will be understood as (type, (1,)) / '(1,)type'.\n",
      "  _np_qint8 = np.dtype([(\"qint8\", np.int8, 1)])\n",
      "C:\\Users\\prath\\anaconda3\\envs\\pythonProject\\lib\\site-packages\\tensorflow\\python\\framework\\dtypes.py:517: FutureWarning: Passing (type, 1) or '1type' as a synonym of type is deprecated; in a future version of numpy, it will be understood as (type, (1,)) / '(1,)type'.\n",
      "  _np_quint8 = np.dtype([(\"quint8\", np.uint8, 1)])\n",
      "C:\\Users\\prath\\anaconda3\\envs\\pythonProject\\lib\\site-packages\\tensorflow\\python\\framework\\dtypes.py:518: FutureWarning: Passing (type, 1) or '1type' as a synonym of type is deprecated; in a future version of numpy, it will be understood as (type, (1,)) / '(1,)type'.\n",
      "  _np_qint16 = np.dtype([(\"qint16\", np.int16, 1)])\n",
      "C:\\Users\\prath\\anaconda3\\envs\\pythonProject\\lib\\site-packages\\tensorflow\\python\\framework\\dtypes.py:519: FutureWarning: Passing (type, 1) or '1type' as a synonym of type is deprecated; in a future version of numpy, it will be understood as (type, (1,)) / '(1,)type'.\n",
      "  _np_quint16 = np.dtype([(\"quint16\", np.uint16, 1)])\n",
      "C:\\Users\\prath\\anaconda3\\envs\\pythonProject\\lib\\site-packages\\tensorflow\\python\\framework\\dtypes.py:520: FutureWarning: Passing (type, 1) or '1type' as a synonym of type is deprecated; in a future version of numpy, it will be understood as (type, (1,)) / '(1,)type'.\n",
      "  _np_qint32 = np.dtype([(\"qint32\", np.int32, 1)])\n",
      "C:\\Users\\prath\\anaconda3\\envs\\pythonProject\\lib\\site-packages\\tensorflow\\python\\framework\\dtypes.py:525: FutureWarning: Passing (type, 1) or '1type' as a synonym of type is deprecated; in a future version of numpy, it will be understood as (type, (1,)) / '(1,)type'.\n",
      "  np_resource = np.dtype([(\"resource\", np.ubyte, 1)])\n",
      "C:\\Users\\prath\\anaconda3\\envs\\pythonProject\\lib\\site-packages\\tensorboard\\compat\\tensorflow_stub\\dtypes.py:541: FutureWarning: Passing (type, 1) or '1type' as a synonym of type is deprecated; in a future version of numpy, it will be understood as (type, (1,)) / '(1,)type'.\n",
      "  _np_qint8 = np.dtype([(\"qint8\", np.int8, 1)])\n",
      "C:\\Users\\prath\\anaconda3\\envs\\pythonProject\\lib\\site-packages\\tensorboard\\compat\\tensorflow_stub\\dtypes.py:542: FutureWarning: Passing (type, 1) or '1type' as a synonym of type is deprecated; in a future version of numpy, it will be understood as (type, (1,)) / '(1,)type'.\n",
      "  _np_quint8 = np.dtype([(\"quint8\", np.uint8, 1)])\n",
      "C:\\Users\\prath\\anaconda3\\envs\\pythonProject\\lib\\site-packages\\tensorboard\\compat\\tensorflow_stub\\dtypes.py:543: FutureWarning: Passing (type, 1) or '1type' as a synonym of type is deprecated; in a future version of numpy, it will be understood as (type, (1,)) / '(1,)type'.\n",
      "  _np_qint16 = np.dtype([(\"qint16\", np.int16, 1)])\n",
      "C:\\Users\\prath\\anaconda3\\envs\\pythonProject\\lib\\site-packages\\tensorboard\\compat\\tensorflow_stub\\dtypes.py:544: FutureWarning: Passing (type, 1) or '1type' as a synonym of type is deprecated; in a future version of numpy, it will be understood as (type, (1,)) / '(1,)type'.\n",
      "  _np_quint16 = np.dtype([(\"quint16\", np.uint16, 1)])\n",
      "C:\\Users\\prath\\anaconda3\\envs\\pythonProject\\lib\\site-packages\\tensorboard\\compat\\tensorflow_stub\\dtypes.py:545: FutureWarning: Passing (type, 1) or '1type' as a synonym of type is deprecated; in a future version of numpy, it will be understood as (type, (1,)) / '(1,)type'.\n",
      "  _np_qint32 = np.dtype([(\"qint32\", np.int32, 1)])\n",
      "C:\\Users\\prath\\anaconda3\\envs\\pythonProject\\lib\\site-packages\\tensorboard\\compat\\tensorflow_stub\\dtypes.py:550: FutureWarning: Passing (type, 1) or '1type' as a synonym of type is deprecated; in a future version of numpy, it will be understood as (type, (1,)) / '(1,)type'.\n",
      "  np_resource = np.dtype([(\"resource\", np.ubyte, 1)])\n"
     ]
    }
   ],
   "source": [
    "import tensorflow as tf\n",
    "import pandas as pd\n",
    "import matplotlib.pyplot as plt\n",
    "import numpy as np\n",
    "from sklearn.model_selection import train_test_split\n",
    "import tensorflow.keras.backend as K\n",
    "import warnings\n",
    "from imutils.contours import sort_contours\n",
    "import cv2 as cv\n",
    "import imutils"
   ]
  },
  {
   "cell_type": "markdown",
   "metadata": {},
   "source": [
    "## Loading the dataset\n",
    "The two fucntions below are used to load the datasets to train the model. The datasets used here are MNIST dataset which has already been split into training and testing set and the NIST Special Database 19 which is a similar to MNIST but contains letters instead of numbers. Both the datasets are of CSV variants to maintain a common dimension between them to ease the integration process. "
   ]
  },
  {
   "cell_type": "code",
   "execution_count": 2,
   "metadata": {},
   "outputs": [],
   "source": [
    "def load_az_dataset(path):\n",
    "    dataset = pd.read_csv(path).astype('float32')\n",
    "    dataset.rename(columns={'0': 'label'}, inplace=True)\n",
    "\n",
    "    data = dataset.drop('label', axis=1)\n",
    "    labels = dataset['label']\n",
    "\n",
    "    return data, labels"
   ]
  },
  {
   "cell_type": "code",
   "execution_count": 3,
   "metadata": {},
   "outputs": [],
   "source": [
    "def load_digit_dataset(path1, path2):\n",
    "    dataset = pd.read_csv(path1).astype('float32')\n",
    "    dataset.rename(columns={'0': 'label'}, inplace=True)\n",
    "\n",
    "    data1 = dataset.drop('label', axis=1)\n",
    "    labels1 = dataset['label']\n",
    "\n",
    "    dataset = pd.read_csv(path2).astype('float32')\n",
    "    dataset.rename(columns={'0': 'label'}, inplace=True)\n",
    "\n",
    "    data2 = dataset.drop('label', axis=1)\n",
    "    labels2 = dataset['label']\n",
    "\n",
    "    data = data1.append(data2)\n",
    "    labels = labels1.append(labels2)\n",
    "\n",
    "    return data, labels"
   ]
  },
  {
   "cell_type": "markdown",
   "metadata": {},
   "source": [
    "## The training model\n",
    "For this project, due to the presence of images and their classification, Convolutional Neural Networks have been used. The model contains four convulutions followed by two hidden layers and output layer. The activation for the convolutions and the hidden layers is 'relu' and for the ouput layer, it is 'softmax' as it helps with the multi-class classification."
   ]
  },
  {
   "cell_type": "code",
   "execution_count": 4,
   "metadata": {},
   "outputs": [],
   "source": [
    "def build(width, height, depth, classes):\n",
    "    model = tf.keras.models.Sequential([\n",
    "        # First two convolutions\n",
    "        tf.keras.layers.Conv2D(32, (3, 3), input_shape=(width, height, depth), activation='relu'),\n",
    "        tf.keras.layers.Conv2D(32, (3, 3), activation='relu'),\n",
    "        tf.keras.layers.MaxPool2D(2, 2),\n",
    "\n",
    "        # Next two convolutions\n",
    "        tf.keras.layers.Conv2D(64, (3, 3), activation='relu'),\n",
    "        tf.keras.layers.Conv2D(64, (3, 3), activation='relu'),\n",
    "        tf.keras.layers.MaxPool2D(2, 2),\n",
    "\n",
    "        # Flatten the results\n",
    "        tf.keras.layers.Flatten(),\n",
    "\n",
    "        # Two 256 neuron hidden layers\n",
    "        tf.keras.layers.Dense(256, activation='relu'),\n",
    "        tf.keras.layers.Dense(256, activation='relu'),\n",
    "\n",
    "        # Output layer with 36 classes for all digits and letters\n",
    "        tf.keras.layers.Dense(classes, activation='softmax')\n",
    "    ])\n",
    "\n",
    "    return model"
   ]
  },
  {
   "cell_type": "code",
   "execution_count": 5,
   "metadata": {},
   "outputs": [
    {
     "name": "stdout",
     "output_type": "stream",
     "text": [
      "[INFO] loading the dataset...\n",
      "dataset loaded successfully.\n"
     ]
    }
   ],
   "source": [
    "# Import the datasets from load_dataset.py file\n",
    "print(\"[INFO] loading the dataset...\")\n",
    "(alpha_data, alpha_labels) = load_az_dataset('A_Z Handwritten Data.csv')\n",
    "(digit_data, digit_labels) = load_digit_dataset('mnist_train.csv', 'mnist_test.csv')\n",
    "print(\"dataset loaded successfully.\")"
   ]
  },
  {
   "cell_type": "markdown",
   "metadata": {},
   "source": [
    "## Combining the datasets\n",
    "Once the datasets are loaded, the two datasets are combined together so that they can be used to train the model. The labels of the NIST dataset are increased by a value of 10 to prevent overlapping with the MNIST datatset. It is then expanded and normalised. \n",
    "\n",
    "To combine the two datasets, 'vstack' and 'hstack' functions of the numpy library are used."
   ]
  },
  {
   "cell_type": "code",
   "execution_count": 6,
   "metadata": {},
   "outputs": [],
   "source": [
    "# Change the labels of the alphabet dataset to prevent overlapping\n",
    "alpha_labels += 10\n",
    "\n",
    "# Combine the two datasets into one\n",
    "data = np.vstack([alpha_data, digit_data])\n",
    "labels = np.hstack([alpha_labels, digit_labels])\n",
    "\n",
    "# Expand the dimensions and normalize the data\n",
    "data = np.expand_dims(data, axis=-1)\n",
    "data = data / 255.0"
   ]
  },
  {
   "cell_type": "markdown",
   "metadata": {},
   "source": [
    "## Splitting the dataset into to training and testing sets\n",
    "The data is split using the 'train_test_split' function of the sklearn library. Once it is split, the train and test data are reshaped based on whether it is channel first or not. To check the channel, we're using keras.backend library. "
   ]
  },
  {
   "cell_type": "code",
   "execution_count": 7,
   "metadata": {},
   "outputs": [],
   "source": [
    "# Split the dataset into training and testing data\n",
    "(train_data, test_data, train_labels, test_labels) = train_test_split(\n",
    "    data,\n",
    "    labels,\n",
    "    test_size=0.25,\n",
    "    random_state=42\n",
    ")\n",
    "\n",
    "# Reshape the data into 3 dimensions. keras.backend is used to adjust teh data based on the channel ordering\n",
    "if K.image_data_format() == 'channels_first':\n",
    "    train_data = train_data.reshape(train_data.shape[0], 1, 28, 28)\n",
    "    test_data = test_data.reshape(test_data.shape[0], 1, 28, 28)\n",
    "    input_shape = (1, 28, 28)\n",
    "else:\n",
    "    train_data = train_data.reshape(train_data.shape[0], 28, 28, 1)\n",
    "    test_data = test_data.reshape(test_data.shape[0], 28, 28, 1)\n",
    "    input_shape = (28, 28, 1)"
   ]
  },
  {
   "cell_type": "code",
   "execution_count": 8,
   "metadata": {},
   "outputs": [],
   "source": [
    "# Image augmentation\n",
    "aug = tf.keras.preprocessing.image.ImageDataGenerator(\n",
    "    rotation_range=30,\n",
    "    width_shift_range=0.2,\n",
    "    height_shift_range=0.2,\n",
    "    zoom_range=0.2,\n",
    "    shear_range=0.2,\n",
    "    fill_mode='nearest'\n",
    ")"
   ]
  },
  {
   "cell_type": "markdown",
   "metadata": {},
   "source": [
    "## Training the model.\n",
    "Now that the data is processed and ready, we can use it to train the model. The input shape for the model is (28, 28, 1) and the optimizer used here is 'Stochastic Gradient Descent'. This is mainly due to the size of the dataset and the computational speed of the optimizer. For the loss function, the 'Sparse Categorical Cross-Entropy' function is used."
   ]
  },
  {
   "cell_type": "code",
   "execution_count": 9,
   "metadata": {},
   "outputs": [
    {
     "name": "stdout",
     "output_type": "stream",
     "text": [
      "WARNING:tensorflow:From C:\\Users\\prath\\anaconda3\\envs\\pythonProject\\lib\\site-packages\\tensorflow\\python\\ops\\init_ops.py:1251: calling VarianceScaling.__init__ (from tensorflow.python.ops.init_ops) with dtype is deprecated and will be removed in a future version.\n",
      "Instructions for updating:\n",
      "Call initializer instance with the dtype argument instead of passing it to the constructor\n",
      "[INFO] training the model...\n",
      "Epoch 1/50\n",
      "2592/2592 [==============================] - 358s 138ms/step - loss: 2.3232 - acc: 0.3761 - val_loss: 0.7191 - val_acc: 0.7907\n",
      "Epoch 2/50\n",
      "2592/2592 [==============================] - 338s 131ms/step - loss: 1.0495 - acc: 0.6989 - val_loss: 0.4393 - val_acc: 0.8701\n",
      "Epoch 3/50\n",
      "2592/2592 [==============================] - 337s 130ms/step - loss: 0.7859 - acc: 0.7714 - val_loss: 0.3538 - val_acc: 0.8954\n",
      "Epoch 4/50\n",
      "2592/2592 [==============================] - 338s 130ms/step - loss: 0.6793 - acc: 0.8016 - val_loss: 0.3088 - val_acc: 0.9080\n",
      "Epoch 5/50\n",
      "2592/2592 [==============================] - 339s 131ms/step - loss: 0.6215 - acc: 0.8179 - val_loss: 0.2870 - val_acc: 0.9138\n",
      "Epoch 6/50\n",
      "2592/2592 [==============================] - 339s 131ms/step - loss: 0.5782 - acc: 0.8300 - val_loss: 0.2781 - val_acc: 0.9167\n",
      "Epoch 7/50\n",
      "2592/2592 [==============================] - 339s 131ms/step - loss: 0.5483 - acc: 0.8382 - val_loss: 0.2639 - val_acc: 0.9200\n",
      "Epoch 8/50\n",
      "2592/2592 [==============================] - 343s 133ms/step - loss: 0.5303 - acc: 0.8433 - val_loss: 0.2583 - val_acc: 0.9212\n",
      "Epoch 9/50\n",
      "2592/2592 [==============================] - 342s 132ms/step - loss: 0.5121 - acc: 0.8488 - val_loss: 0.2530 - val_acc: 0.9229\n",
      "Epoch 10/50\n",
      "2592/2592 [==============================] - 342s 132ms/step - loss: 0.4953 - acc: 0.8533 - val_loss: 0.2528 - val_acc: 0.9219\n",
      "Epoch 11/50\n",
      "2592/2592 [==============================] - 341s 131ms/step - loss: 0.4857 - acc: 0.8562 - val_loss: 0.2459 - val_acc: 0.9254\n",
      "Epoch 12/50\n",
      "2592/2592 [==============================] - 340s 131ms/step - loss: 0.4766 - acc: 0.8594 - val_loss: 0.2398 - val_acc: 0.9265\n",
      "Epoch 13/50\n",
      "2592/2592 [==============================] - 341s 132ms/step - loss: 0.4631 - acc: 0.8626 - val_loss: 0.2382 - val_acc: 0.9275\n",
      "Epoch 14/50\n",
      "2592/2592 [==============================] - 341s 132ms/step - loss: 0.4590 - acc: 0.8637 - val_loss: 0.2333 - val_acc: 0.9296\n",
      "Epoch 15/50\n",
      "2592/2592 [==============================] - 342s 132ms/step - loss: 0.4495 - acc: 0.8661 - val_loss: 0.2292 - val_acc: 0.9295\n",
      "Epoch 16/50\n",
      "2592/2592 [==============================] - 340s 131ms/step - loss: 0.4438 - acc: 0.8679 - val_loss: 0.2282 - val_acc: 0.9298\n",
      "Epoch 17/50\n",
      "2592/2592 [==============================] - 342s 132ms/step - loss: 0.4376 - acc: 0.8698 - val_loss: 0.2274 - val_acc: 0.9304\n",
      "Epoch 18/50\n",
      "2592/2592 [==============================] - 341s 132ms/step - loss: 0.4340 - acc: 0.8705 - val_loss: 0.2265 - val_acc: 0.9299\n",
      "Epoch 19/50\n",
      "2592/2592 [==============================] - 342s 132ms/step - loss: 0.4278 - acc: 0.8728 - val_loss: 0.2217 - val_acc: 0.9318\n",
      "Epoch 20/50\n",
      "2592/2592 [==============================] - 343s 132ms/step - loss: 0.4234 - acc: 0.8733 - val_loss: 0.2217 - val_acc: 0.9317\n",
      "Epoch 21/50\n",
      "2592/2592 [==============================] - 341s 132ms/step - loss: 0.4210 - acc: 0.8743 - val_loss: 0.2240 - val_acc: 0.9308\n",
      "Epoch 22/50\n",
      "2592/2592 [==============================] - 342s 132ms/step - loss: 0.4163 - acc: 0.8758 - val_loss: 0.2199 - val_acc: 0.9317\n",
      "Epoch 23/50\n",
      "2592/2592 [==============================] - 342s 132ms/step - loss: 0.4119 - acc: 0.8771 - val_loss: 0.2196 - val_acc: 0.9324\n",
      "Epoch 24/50\n",
      "2592/2592 [==============================] - 342s 132ms/step - loss: 0.4119 - acc: 0.8772 - val_loss: 0.2134 - val_acc: 0.9342\n",
      "Epoch 25/50\n",
      "2592/2592 [==============================] - 343s 132ms/step - loss: 0.4041 - acc: 0.8786 - val_loss: 0.2152 - val_acc: 0.9340\n",
      "Epoch 26/50\n",
      "2592/2592 [==============================] - 341s 132ms/step - loss: 0.4060 - acc: 0.8784 - val_loss: 0.2143 - val_acc: 0.9337\n",
      "Epoch 27/50\n",
      "2592/2592 [==============================] - 342s 132ms/step - loss: 0.4017 - acc: 0.8797 - val_loss: 0.2130 - val_acc: 0.9346\n",
      "Epoch 28/50\n",
      "2592/2592 [==============================] - 346s 134ms/step - loss: 0.3971 - acc: 0.8815 - val_loss: 0.2107 - val_acc: 0.9348\n",
      "Epoch 29/50\n",
      "2592/2592 [==============================] - 347s 134ms/step - loss: 0.3961 - acc: 0.8810 - val_loss: 0.2097 - val_acc: 0.9349\n",
      "Epoch 30/50\n",
      "2592/2592 [==============================] - 342s 132ms/step - loss: 0.3963 - acc: 0.8819 - val_loss: 0.2111 - val_acc: 0.9348\n",
      "Epoch 31/50\n",
      "2592/2592 [==============================] - 343s 132ms/step - loss: 0.3935 - acc: 0.8823 - val_loss: 0.2098 - val_acc: 0.9350\n",
      "Epoch 32/50\n",
      "2592/2592 [==============================] - 342s 132ms/step - loss: 0.3911 - acc: 0.8827 - val_loss: 0.2085 - val_acc: 0.9355\n",
      "Epoch 33/50\n",
      "2592/2592 [==============================] - 343s 132ms/step - loss: 0.3878 - acc: 0.8842 - val_loss: 0.2092 - val_acc: 0.9353\n",
      "Epoch 34/50\n",
      "2592/2592 [==============================] - 339s 131ms/step - loss: 0.3866 - acc: 0.8840 - val_loss: 0.2067 - val_acc: 0.9362\n",
      "Epoch 35/50\n",
      "2592/2592 [==============================] - 339s 131ms/step - loss: 0.3854 - acc: 0.8845 - val_loss: 0.2079 - val_acc: 0.9360\n",
      "Epoch 36/50\n",
      "2592/2592 [==============================] - 340s 131ms/step - loss: 0.3838 - acc: 0.8853 - val_loss: 0.2079 - val_acc: 0.9356\n",
      "Epoch 37/50\n",
      "2592/2592 [==============================] - 340s 131ms/step - loss: 0.3824 - acc: 0.8857 - val_loss: 0.2056 - val_acc: 0.9367\n",
      "Epoch 38/50\n",
      "2592/2592 [==============================] - 339s 131ms/step - loss: 0.3812 - acc: 0.8854 - val_loss: 0.2057 - val_acc: 0.9361\n",
      "Epoch 39/50\n",
      "2592/2592 [==============================] - 340s 131ms/step - loss: 0.3798 - acc: 0.8863 - val_loss: 0.2037 - val_acc: 0.9370\n",
      "Epoch 40/50\n",
      "2592/2592 [==============================] - 340s 131ms/step - loss: 0.3770 - acc: 0.8869 - val_loss: 0.2058 - val_acc: 0.9362\n",
      "Epoch 41/50\n",
      "2592/2592 [==============================] - 340s 131ms/step - loss: 0.3768 - acc: 0.8869 - val_loss: 0.2059 - val_acc: 0.9367\n",
      "Epoch 42/50\n",
      "2592/2592 [==============================] - 340s 131ms/step - loss: 0.3724 - acc: 0.8886 - val_loss: 0.2009 - val_acc: 0.9381\n",
      "Epoch 43/50\n",
      "2592/2592 [==============================] - 341s 131ms/step - loss: 0.3727 - acc: 0.8881 - val_loss: 0.2038 - val_acc: 0.9377\n",
      "Epoch 44/50\n",
      "2592/2592 [==============================] - 340s 131ms/step - loss: 0.3712 - acc: 0.8884 - val_loss: 0.2002 - val_acc: 0.9382\n",
      "Epoch 45/50\n",
      "2592/2592 [==============================] - 340s 131ms/step - loss: 0.3697 - acc: 0.8890 - val_loss: 0.2026 - val_acc: 0.9377\n",
      "Epoch 46/50\n",
      "2592/2592 [==============================] - 340s 131ms/step - loss: 0.3698 - acc: 0.8891 - val_loss: 0.2017 - val_acc: 0.9380\n",
      "Epoch 47/50\n",
      "2592/2592 [==============================] - 340s 131ms/step - loss: 0.3683 - acc: 0.8898 - val_loss: 0.1992 - val_acc: 0.9387\n",
      "Epoch 48/50\n",
      "2592/2592 [==============================] - 340s 131ms/step - loss: 0.3683 - acc: 0.8902 - val_loss: 0.1986 - val_acc: 0.9389\n",
      "Epoch 49/50\n",
      "2592/2592 [==============================] - 340s 131ms/step - loss: 0.3646 - acc: 0.8905 - val_loss: 0.1989 - val_acc: 0.9389\n",
      "Epoch 50/50\n",
      "2592/2592 [==============================] - 340s 131ms/step - loss: 0.3643 - acc: 0.8904 - val_loss: 0.1987 - val_acc: 0.9386\n",
      "[INFO] serializing network...\n"
     ]
    }
   ],
   "source": [
    "# Import the model and build it\n",
    "model = build(28, 28, 1, 36)\n",
    "\n",
    "# Compile the model\n",
    "opt = tf.keras.optimizers.SGD(lr=0.01, decay=0.01 / 50)\n",
    "model.compile(optimizer=opt, loss='sparse_categorical_crossentropy', metrics=['accuracy'])\n",
    "\n",
    "# To filter out unnecessary warnings\n",
    "warnings.filterwarnings('ignore')\n",
    "\n",
    "# Fitting the model\n",
    "print(\"[INFO] training the model...\")\n",
    "history = model.fit(\n",
    "    aug.flow(train_data, train_labels, batch_size=128),\n",
    "    validation_data=(test_data, test_labels),\n",
    "    steps_per_epoch=len(train_data) // 128,\n",
    "    epochs=50,\n",
    "    verbose=1\n",
    ")\n",
    "\n",
    "# saving the model\n",
    "print(\"[INFO] serializing network...\")\n",
    "model.save(\"ocr\", save_format=\"h5\")"
   ]
  },
  {
   "cell_type": "markdown",
   "metadata": {},
   "source": [
    "## Plotting the accuracy and loss of the model\n",
    "Matplotlib is used here to plot the training and validation accuracy as well the respective losses of the model. This will give more insight into the performance over time of the model."
   ]
  },
  {
   "cell_type": "code",
   "execution_count": 10,
   "metadata": {},
   "outputs": [
    {
     "data": {
      "image/png": "[encoded data removed]",
      "text/plain": [
       "<Figure size 432x288 with 1 Axes>"
      ]
     },
     "metadata": {},
     "output_type": "display_data"
    }
   ],
   "source": [
    "# construct a plot that plots and saves the training history\n",
    "N = np.arange(0, 50)\n",
    "plt.style.use(\"ggplot\")\n",
    "plt.figure()\n",
    "plt.plot(N, history.history[\"loss\"], label=\"train_loss\")\n",
    "plt.plot(N, history.history[\"val_loss\"], label=\"val_loss\")\n",
    "plt.title(\"Training Loss and Accuracy\")\n",
    "plt.xlabel(\"Epochs\")\n",
    "plt.ylabel(\"Loss/Accuracy\")\n",
    "plt.legend(loc=\"upper right\")\n",
    "plt.show()"
   ]
  },
  {
   "cell_type": "markdown",
   "metadata": {},
   "source": [
    "## Reading the image\n",
    "In this section, code relevant to reading the image file and isolating the text for classification is done. This is done by detecting the contours of the text and looping over each contour, extracting the character, feeding to the model and labelling it. The label is then returned to the image and stored there.\n",
    "\n",
    "To perform all these operations, the 'opencv' library is extensively used."
   ]
  },
  {
   "cell_type": "code",
   "execution_count": 9,
   "metadata": {},
   "outputs": [],
   "source": [
    "# loading the input image from disk, converting it to grayscale, and blurring it to reduce noise\n",
    "image = cv.imread('ocr4.jpg')\n",
    "gray = cv.cvtColor(image, cv.COLOR_BGR2GRAY)\n",
    "blurred = cv.GaussianBlur(gray, (5, 5), 0)\n",
    "    \n",
    "# performing edge detection, finding contours in the edge map, and sorting the resulting contours from left-to-right\n",
    "edged = cv.Canny(blurred, 30, 150)\n",
    "cnts = cv.findContours(edged.copy(), cv.RETR_EXTERNAL, cv.CHAIN_APPROX_SIMPLE)\n",
    "cnts = imutils.grab_contours(cnts)\n",
    "cnts = sort_contours(cnts, method=\"left-to-right\")[0]\n",
    "\n",
    "# initializing the list of contour bounding boxes and associated characters that we'll be OCR'ing\n",
    "chars = []"
   ]
  },
  {
   "cell_type": "code",
   "execution_count": 10,
   "metadata": {},
   "outputs": [],
   "source": [
    "# loop over the contours\n",
    "for c in cnts:\n",
    "    # compute the bounding box of the contour\n",
    "    (x, y, w, h) = cv.boundingRect(c)\n",
    "    # filter out bounding boxes, ensuring they are neither too small\n",
    "    # nor too large\n",
    "    if (w >= 5 and w <= 150) and (h >= 15 and h <= 120):\n",
    "        # extract the character and threshold it to make the character\n",
    "        # appear as *white* (foreground) on a *black* background, then\n",
    "        # grab the width and height of the thresholded image\n",
    "        roi = gray[y:y + h, x:x + w]\n",
    "        thresh = cv.threshold(roi, 0, 255, cv.THRESH_BINARY_INV | cv.THRESH_OTSU)[1]\n",
    "        (tH, tW) = thresh.shape\n",
    "        # if the width is greater than the height, resize along the width dimension\n",
    "        if tW > tH:\n",
    "            thresh = imutils.resize(thresh, width=28)\n",
    "        # otherwise, resize along the height\n",
    "        else:\n",
    "            thresh = imutils.resize(thresh, height=28)\n",
    "            \n",
    "        # re-grab the image dimensions (now that its been resized)\n",
    "        # and then determine how much we need to pad the width and\n",
    "        # height such that our image will be 28x28\n",
    "        (tH, tW) = thresh.shape\n",
    "        dX = int(max(0, 28 - tW) / 2.0)\n",
    "        dY = int(max(0, 28 - tH) / 2.0)\n",
    "        # pad the image and force 28x28 dimensions\n",
    "        padded = cv.copyMakeBorder(thresh, top=dY, bottom=dY, left=dX, right=dX, borderType=cv.BORDER_CONSTANT, \n",
    "                                    value=(0, 0, 0))\n",
    "        padded = cv.resize(padded, (28, 28))\n",
    "        # prepare the padded image for classification via our handwriting OCR model\n",
    "        padded = padded.astype(\"float32\") / 255.0\n",
    "        padded = np.expand_dims(padded, axis=-1)\n",
    "        # update our list of characters that will be OCR'd\n",
    "        chars.append((padded, (x, y, w, h)))"
   ]
  },
  {
   "cell_type": "code",
   "execution_count": 11,
   "metadata": {},
   "outputs": [],
   "source": [
    "# extract the bounding box locations and padded characters\n",
    "boxes = [b[1] for b in chars]\n",
    "chars = np.array([c[0] for c in chars], dtype=\"float32\")\n",
    "\n",
    "# OCR the characters using our handwriting recognition model\n",
    "model = tf.keras.models.load_model('ocr')\n",
    "preds = model.predict(chars)\n",
    "\n",
    "# define the list of label names\n",
    "labelNames = '0123456789'\n",
    "labelNames += 'ABCDEFGHIJKLMNOPQRSTUVWXYZ'\n",
    "labelNames = [l for l in labelNames]"
   ]
  },
  {
   "cell_type": "code",
   "execution_count": 12,
   "metadata": {
    "scrolled": true
   },
   "outputs": [
    {
     "name": "stdout",
     "output_type": "stream",
     "text": [
      "[INFO] A - 40.22%\n",
      "[INFO] C - 91.31%\n",
      "[INFO] 9 - 86.77%\n",
      "[INFO] 3 - 99.89%\n",
      "[INFO] 6 - 52.76%\n",
      "[INFO] K - 93.49%\n",
      "[INFO] S - 97.90%\n"
     ]
    }
   ],
   "source": [
    "# loop over the predictions and bounding box locations together\n",
    "for (pred, (x, y, w, h)) in zip(preds, boxes):\n",
    "    # find the index of the label with the largest corresponding probability, then extract the probability and label\n",
    "    i = np.argmax(pred)\n",
    "    prob = pred[i]\n",
    "    label = labelNames[i]\n",
    "    \n",
    "    # draw the prediction on the image\n",
    "    print(\"[INFO] {} - {:.2f}%\".format(label, prob * 100))\n",
    "    cv.rectangle(image, (x, y), (x + w, y + h), (0, 255, 0), 2)\n",
    "    cv.putText(image, label, (x - 10, y - 10), cv.FONT_HERSHEY_SIMPLEX, 1.2, (0, 255, 0), 2)\n",
    "    \n",
    "    # show the image\n",
    "    cv.imshow(\"Image\", image)\n",
    "    cv.waitKey(5000)\n",
    "    \n",
    "cv.destroyAllWindows()"
   ]
  },
  {
   "cell_type": "code",
   "execution_count": null,
   "metadata": {},
   "outputs": [],
   "source": []
  }
 ],
 "metadata": {
  "kernelspec": {
   "display_name": "Python 3",
   "language": "python",
   "name": "python3"
  },
  "language_info": {
   "codemirror_mode": {
    "name": "ipython",
    "version": 3
   },
   "file_extension": ".py",
   "mimetype": "text/x-python",
   "name": "python",
   "nbconvert_exporter": "python",
   "pygments_lexer": "ipython3",
   "version": "3.7.9"
  }
 },
 "nbformat": 4,
 "nbformat_minor": 4
}
